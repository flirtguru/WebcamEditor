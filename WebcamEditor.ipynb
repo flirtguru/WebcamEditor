{
 "cells": [
  {
   "cell_type": "code",
   "execution_count": null,
   "metadata": {
    "collapsed": true
   },
   "outputs": [],
   "source": []
  },
  {
   "cell_type": "code",
   "execution_count": null,
   "metadata": {
    "collapsed": true
   },
   "outputs": [],
   "source": []
  },
  {
   "cell_type": "code",
   "execution_count": null,
   "metadata": {
    "collapsed": true
   },
   "outputs": [],
   "source": [
    "#SKETCH FILTER\n",
    "\n",
    "\n",
    "import cv2\n",
    "import numpy as np\n",
    "\n",
    "i=3\n",
    "\n",
    "def sketch(image):\n",
    "   \n",
    "    square=np.zeros((480,848),np.uint8)\n",
    "    \n",
    "    cv2.rectangle(square,(20,20),(200,200),255,-1)\n",
    "    \n",
    "    img_gray_blur=cv2.GaussianBlur(image,(5,5),0)\n",
    "    \n",
    "    cannyedges=cv2.Canny(img_gray_blur,10,70)\n",
    "    \n",
    "    ret,mask=cv2.threshold(cannyedges,70,255,cv2.THRESH_BINARY_INV)\n",
    "    #i=mask.shape\n",
    "    out=cv2.bitwise_xor(square,mask)\n",
    "    \n",
    "    return out\n",
    "\n",
    "\n",
    "   \n",
    " \n",
    "cap=cv2.VideoCapture(0)\n",
    "\n",
    "while True:\n",
    "    \n",
    "    ret,frame=cap.read()\n",
    "    \n",
    "    cv2.imshow(\"sketch\",sketch(frame))\n",
    "    \n",
    "    if cv2.waitKey(1)==13:\n",
    "        \n",
    "        break\n",
    "       \n",
    "cap.release() \n",
    "\n",
    "cv2.destroyAllWindows()    \n",
    "    \n",
    "    \n",
    "    \n",
    "    \n",
    "\n",
    "\n",
    "    \n",
    "    \n",
    "    "
   ]
  },
  {
   "cell_type": "markdown",
   "metadata": {
    "collapsed": true
   },
   "source": [
    "\n",
    "    \n",
    "    \n",
    "    \n",
    "    \n",
    "    \n",
    "    "
   ]
  },
  {
   "cell_type": "code",
   "execution_count": null,
   "metadata": {
    "collapsed": true
   },
   "outputs": [],
   "source": [
    "# RANDOM COLOR FILTER\n",
    "\n",
    "\n",
    "import cv2\n",
    "import numpy as np\n",
    "\n",
    "i=3\n",
    "\n",
    "def sketch(image):\n",
    "   \n",
    "  B,G,R=cv2.split(image)\n",
    "    \n",
    "  image=cv2.merge([R+25,G+30,B+12])\n",
    "\n",
    "  return image\n",
    "\n",
    "\n",
    "   \n",
    " \n",
    "cap=cv2.VideoCapture(0)\n",
    "\n",
    "while True:\n",
    "    \n",
    "    ret,frame=cap.read()\n",
    "    \n",
    "    cv2.imshow(\"sketch\",sketch(frame))\n",
    "    \n",
    "    if cv2.waitKey(1)==13:\n",
    "        \n",
    "        break\n",
    "       \n",
    "cap.release() \n",
    "\n",
    "cv2.destroyAllWindows()    \n",
    "    "
   ]
  },
  {
   "cell_type": "raw",
   "metadata": {},
   "source": []
  },
  {
   "cell_type": "code",
   "execution_count": null,
   "metadata": {
    "collapsed": true
   },
   "outputs": [],
   "source": []
  }
 ],
 "metadata": {
  "kernelspec": {
   "display_name": "Python 2",
   "language": "python",
   "name": "python2"
  },
  "language_info": {
   "codemirror_mode": {
    "name": "ipython",
    "version": 3
   },
   "file_extension": ".py",
   "mimetype": "text/x-python",
   "name": "python",
   "nbconvert_exporter": "python",
   "pygments_lexer": "ipython3",
   "version": "3.6.3"
  }
 },
 "nbformat": 4,
 "nbformat_minor": 2
}
